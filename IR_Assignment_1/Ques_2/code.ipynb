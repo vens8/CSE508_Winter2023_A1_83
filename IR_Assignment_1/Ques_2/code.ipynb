{
 "cells": [
  {
   "cell_type": "code",
   "execution_count": 10,
   "metadata": {},
   "outputs": [],
   "source": [
    "import os\n",
    "import bs4\n",
    "from bs4 import BeautifulSoup\n",
    "import pickle\n",
    "\n",
    "path = r\"/home/sumit20136/IR_Assignment_1/Dataset\"\n",
    "os.chdir(path)\n",
    "unigram_inverted_index={}\n",
    "index=1\n"
   ]
  },
  {
   "cell_type": "code",
   "execution_count": 11,
   "metadata": {},
   "outputs": [],
   "source": [
    "def read_text_file(file_path,index):\n",
    "    with open(file_path, 'r') as f:\n",
    "        text_lst=f.read().split()\n",
    "        for i in text_lst:\n",
    "            if i in unigram_inverted_index.keys():\n",
    "                if(index not in unigram_inverted_index[i]):\n",
    "                    unigram_inverted_index[i].append(index)\n",
    "            else:\n",
    "                unigram_inverted_index[i]=[index]"
   ]
  },
  {
   "cell_type": "code",
   "execution_count": 12,
   "metadata": {},
   "outputs": [],
   "source": [
    "for file in sorted(os.listdir()):\n",
    "    file_path = f\"{path}/{file}\"\n",
    "    read_text_file(file_path,index)\n",
    "    index+=1"
   ]
  },
  {
   "cell_type": "code",
   "execution_count": null,
   "metadata": {},
   "outputs": [],
   "source": [
    "print(unigram_inverted_index)"
   ]
  },
  {
   "attachments": {},
   "cell_type": "markdown",
   "metadata": {},
   "source": [
    "Part b)"
   ]
  },
  {
   "cell_type": "code",
   "execution_count": 5,
   "metadata": {},
   "outputs": [],
   "source": [
    "path=r\"/home/sumit20136/IR_Assignment_1/Ques_2\"\n",
    "os.chdir(path)    "
   ]
  },
  {
   "cell_type": "code",
   "execution_count": 6,
   "metadata": {},
   "outputs": [],
   "source": [
    "with open('unigram_inverted_index', 'wb') as handle:\n",
    "    pickle.dump(unigram_inverted_index, handle, protocol=pickle.HIGHEST_PROTOCOL)\n",
    "\n",
    "with open('unigram_inverted_index', 'rb') as handle:\n",
    "    b = pickle.load(handle)"
   ]
  },
  {
   "attachments": {},
   "cell_type": "markdown",
   "metadata": {},
   "source": [
    "Part c)"
   ]
  },
  {
   "cell_type": "code",
   "execution_count": 7,
   "metadata": {},
   "outputs": [
    {
     "name": "stderr",
     "output_type": "stream",
     "text": [
      "[nltk_data] Downloading package stopwords to\n",
      "[nltk_data]     /home/sumit20136/nltk_data...\n",
      "[nltk_data]   Package stopwords is already up-to-date!\n",
      "[nltk_data] Downloading package punkt to /home/sumit20136/nltk_data...\n",
      "[nltk_data]   Package punkt is already up-to-date!\n"
     ]
    }
   ],
   "source": [
    "import os\n",
    "import numpy as np\n",
    "import nltk\n",
    "import bs4\n",
    "from bs4 import BeautifulSoup\n",
    "from nltk.corpus import stopwords\n",
    "from nltk.tokenize import RegexpTokenizer\n",
    "nltk.download('stopwords')\n",
    "nltk.download(\"punkt\")\n",
    "\n",
    "def T1(unigram_inverted_index , word1):\n",
    "    return unigram_inverted_index[word1]\n",
    "\n",
    "def T2(unigram_inverted_index , word2):\n",
    "    return unigram_inverted_index[word2]\n",
    "\n",
    "def AND(unigram_inverted_index, word1, word2):\n",
    "    return set(T1(unigram_inverted_index, word1)) and set(T2(unigram_inverted_index, word2))\n",
    "\n",
    "def AND_NOT(unigram_inverted_index, word1, word2):\n",
    "    return set(T1(unigram_inverted_index, word1)) and not set(T2(unigram_inverted_index, word2))\n",
    "\n",
    "def OR(unigram_inverted_index, word1, word2):\n",
    "    return set(T1(unigram_inverted_index, word1)) or set(T2(unigram_inverted_index, word2))\n",
    "\n",
    "def OR_NOT(unigram_inverted_index, word1, word2):\n",
    "    return set(T1(unigram_inverted_index, word1)) or not set(T2(unigram_inverted_index, word2))\n",
    "\n",
    "def remove_stopwords(file_text):\n",
    "    file_data=file_text.split()\n",
    "    english_stopwords = stopwords.words()\n",
    "    # tokens=perform_tokenization(file_data)\n",
    "    tokens_wo_stopwords = [t for t in file_data if t not in english_stopwords]\n",
    "    # print(type(tokens_wo_stopwords))\n",
    "    return ' '.join(tokens_wo_stopwords)"
   ]
  }
 ],
 "metadata": {
  "kernelspec": {
   "display_name": "sumitsenv",
   "language": "python",
   "name": "python3"
  },
  "language_info": {
   "codemirror_mode": {
    "name": "ipython",
    "version": 3
   },
   "file_extension": ".py",
   "mimetype": "text/x-python",
   "name": "python",
   "nbconvert_exporter": "python",
   "pygments_lexer": "ipython3",
   "version": "3.10.0"
  },
  "orig_nbformat": 4,
  "vscode": {
   "interpreter": {
    "hash": "0a8dbe7c57848b21e8ac285795094c75980909ef02a1be97b8abdf6e3ff2c5ae"
   }
  }
 },
 "nbformat": 4,
 "nbformat_minor": 2
}
